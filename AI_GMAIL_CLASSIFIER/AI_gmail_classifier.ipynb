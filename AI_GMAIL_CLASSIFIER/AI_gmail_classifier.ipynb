{
 "cells": [
  {
   "cell_type": "code",
   "execution_count": 1,
   "id": "49dad987",
   "metadata": {},
   "outputs": [
    {
     "name": "stdout",
     "output_type": "stream",
     "text": [
      "Requirement already satisfied: openai in c:\\users\\amarn\\anaconda3\\lib\\site-packages (1.98.0)\n",
      "Requirement already satisfied: google-auth in c:\\users\\amarn\\anaconda3\\lib\\site-packages (2.40.3)\n",
      "Requirement already satisfied: google-auth-oauthlib in c:\\users\\amarn\\anaconda3\\lib\\site-packages (1.2.2)\n",
      "Requirement already satisfied: google-auth-httplib2 in c:\\users\\amarn\\anaconda3\\lib\\site-packages (0.2.0)\n",
      "Requirement already satisfied: google-api-python-client in c:\\users\\amarn\\anaconda3\\lib\\site-packages (2.177.0)\n",
      "Requirement already satisfied: plyer in c:\\users\\amarn\\anaconda3\\lib\\site-packages (2.1.0)\n",
      "Requirement already satisfied: anyio<5,>=3.5.0 in c:\\users\\amarn\\anaconda3\\lib\\site-packages (from openai) (4.7.0)\n",
      "Requirement already satisfied: distro<2,>=1.7.0 in c:\\users\\amarn\\anaconda3\\lib\\site-packages (from openai) (1.9.0)\n",
      "Requirement already satisfied: httpx<1,>=0.23.0 in c:\\users\\amarn\\anaconda3\\lib\\site-packages (from openai) (0.28.1)\n",
      "Requirement already satisfied: jiter<1,>=0.4.0 in c:\\users\\amarn\\anaconda3\\lib\\site-packages (from openai) (0.10.0)\n",
      "Requirement already satisfied: pydantic<3,>=1.9.0 in c:\\users\\amarn\\anaconda3\\lib\\site-packages (from openai) (2.10.3)\n",
      "Requirement already satisfied: sniffio in c:\\users\\amarn\\anaconda3\\lib\\site-packages (from openai) (1.3.0)\n",
      "Requirement already satisfied: tqdm>4 in c:\\users\\amarn\\anaconda3\\lib\\site-packages (from openai) (4.67.1)\n",
      "Requirement already satisfied: typing-extensions<5,>=4.11 in c:\\users\\amarn\\anaconda3\\lib\\site-packages (from openai) (4.12.2)\n",
      "Requirement already satisfied: idna>=2.8 in c:\\users\\amarn\\anaconda3\\lib\\site-packages (from anyio<5,>=3.5.0->openai) (3.7)\n",
      "Requirement already satisfied: certifi in c:\\users\\amarn\\anaconda3\\lib\\site-packages (from httpx<1,>=0.23.0->openai) (2025.4.26)\n",
      "Requirement already satisfied: httpcore==1.* in c:\\users\\amarn\\anaconda3\\lib\\site-packages (from httpx<1,>=0.23.0->openai) (1.0.9)\n",
      "Requirement already satisfied: h11>=0.16 in c:\\users\\amarn\\anaconda3\\lib\\site-packages (from httpcore==1.*->httpx<1,>=0.23.0->openai) (0.16.0)\n",
      "Requirement already satisfied: annotated-types>=0.6.0 in c:\\users\\amarn\\anaconda3\\lib\\site-packages (from pydantic<3,>=1.9.0->openai) (0.6.0)\n",
      "Requirement already satisfied: pydantic-core==2.27.1 in c:\\users\\amarn\\anaconda3\\lib\\site-packages (from pydantic<3,>=1.9.0->openai) (2.27.1)\n",
      "Requirement already satisfied: cachetools<6.0,>=2.0.0 in c:\\users\\amarn\\anaconda3\\lib\\site-packages (from google-auth) (5.5.1)\n",
      "Requirement already satisfied: pyasn1-modules>=0.2.1 in c:\\users\\amarn\\anaconda3\\lib\\site-packages (from google-auth) (0.2.8)\n",
      "Requirement already satisfied: rsa<5,>=3.1.4 in c:\\users\\amarn\\anaconda3\\lib\\site-packages (from google-auth) (4.9.1)\n",
      "Requirement already satisfied: pyasn1>=0.1.3 in c:\\users\\amarn\\anaconda3\\lib\\site-packages (from rsa<5,>=3.1.4->google-auth) (0.4.8)\n",
      "Requirement already satisfied: requests-oauthlib>=0.7.0 in c:\\users\\amarn\\anaconda3\\lib\\site-packages (from google-auth-oauthlib) (2.0.0)\n",
      "Requirement already satisfied: httplib2>=0.19.0 in c:\\users\\amarn\\anaconda3\\lib\\site-packages (from google-auth-httplib2) (0.22.0)\n",
      "Requirement already satisfied: google-api-core!=2.0.*,!=2.1.*,!=2.2.*,!=2.3.0,<3.0.0,>=1.31.5 in c:\\users\\amarn\\anaconda3\\lib\\site-packages (from google-api-python-client) (2.25.1)\n",
      "Requirement already satisfied: uritemplate<5,>=3.0.1 in c:\\users\\amarn\\anaconda3\\lib\\site-packages (from google-api-python-client) (4.2.0)\n",
      "Requirement already satisfied: googleapis-common-protos<2.0.0,>=1.56.2 in c:\\users\\amarn\\anaconda3\\lib\\site-packages (from google-api-core!=2.0.*,!=2.1.*,!=2.2.*,!=2.3.0,<3.0.0,>=1.31.5->google-api-python-client) (1.70.0)\n",
      "Requirement already satisfied: protobuf!=3.20.0,!=3.20.1,!=4.21.0,!=4.21.1,!=4.21.2,!=4.21.3,!=4.21.4,!=4.21.5,<7.0.0,>=3.19.5 in c:\\users\\amarn\\anaconda3\\lib\\site-packages (from google-api-core!=2.0.*,!=2.1.*,!=2.2.*,!=2.3.0,<3.0.0,>=1.31.5->google-api-python-client) (5.29.3)\n",
      "Requirement already satisfied: proto-plus<2.0.0,>=1.22.3 in c:\\users\\amarn\\anaconda3\\lib\\site-packages (from google-api-core!=2.0.*,!=2.1.*,!=2.2.*,!=2.3.0,<3.0.0,>=1.31.5->google-api-python-client) (1.26.1)\n",
      "Requirement already satisfied: requests<3.0.0,>=2.18.0 in c:\\users\\amarn\\anaconda3\\lib\\site-packages (from google-api-core!=2.0.*,!=2.1.*,!=2.2.*,!=2.3.0,<3.0.0,>=1.31.5->google-api-python-client) (2.32.3)\n",
      "Requirement already satisfied: pyparsing!=3.0.0,!=3.0.1,!=3.0.2,!=3.0.3,<4,>=2.4.2 in c:\\users\\amarn\\anaconda3\\lib\\site-packages (from httplib2>=0.19.0->google-auth-httplib2) (3.2.0)\n",
      "Requirement already satisfied: charset-normalizer<4,>=2 in c:\\users\\amarn\\anaconda3\\lib\\site-packages (from requests<3.0.0,>=2.18.0->google-api-core!=2.0.*,!=2.1.*,!=2.2.*,!=2.3.0,<3.0.0,>=1.31.5->google-api-python-client) (3.3.2)\n",
      "Requirement already satisfied: urllib3<3,>=1.21.1 in c:\\users\\amarn\\anaconda3\\lib\\site-packages (from requests<3.0.0,>=2.18.0->google-api-core!=2.0.*,!=2.1.*,!=2.2.*,!=2.3.0,<3.0.0,>=1.31.5->google-api-python-client) (2.3.0)\n",
      "Requirement already satisfied: oauthlib>=3.0.0 in c:\\users\\amarn\\anaconda3\\lib\\site-packages (from requests-oauthlib>=0.7.0->google-auth-oauthlib) (3.3.1)\n",
      "Requirement already satisfied: colorama in c:\\users\\amarn\\anaconda3\\lib\\site-packages (from tqdm>4->openai) (0.4.6)\n"
     ]
    }
   ],
   "source": [
    "!pip install --upgrade openai google-auth google-auth-oauthlib google-auth-httplib2 google-api-python-client plyer"
   ]
  },
  {
   "cell_type": "code",
   "execution_count": 11,
   "id": "24b0f2af",
   "metadata": {},
   "outputs": [],
   "source": [
    "from google_auth_oauthlib.flow import InstalledAppFlow\n",
    "from googleapiclient.discovery import build\n",
    "import os, pickle\n",
    "\n",
    "SCOPES = ['https://www.googleapis.com/auth/gmail.modify']\n",
    "\n",
    "def authenticate_gmail():\n",
    "    creds = None\n",
    "    if os.path.exists('token.pkl'):\n",
    "        with open('token.pkl', 'rb') as token:\n",
    "            creds = pickle.load(token)\n",
    "    else:\n",
    "        flow = InstalledAppFlow.from_client_secrets_file('credentials.json', SCOPES)\n",
    "        creds = flow.run_local_server(port=0)\n",
    "        with open('token.pkl', 'wb') as token:\n",
    "            pickle.dump(creds, token)\n",
    "\n",
    "    return build('gmail', 'v1', credentials=creds)"
   ]
  },
  {
   "cell_type": "code",
   "execution_count": 12,
   "id": "b72c819c",
   "metadata": {},
   "outputs": [
    {
     "name": "stdout",
     "output_type": "stream",
     "text": [
      "Please visit this URL to authorize this application: https://accounts.google.com/o/oauth2/auth?response_type=code&client_id=295471913887-v68iukod7s4c2oqusgh056vk0iqml9gr.apps.googleusercontent.com&redirect_uri=http%3A%2F%2Flocalhost%3A55386%2F&scope=https%3A%2F%2Fwww.googleapis.com%2Fauth%2Fgmail.modify&state=w9KlSRCiAfONfzikklX6xSA0aN6hIN&access_type=offline\n"
     ]
    }
   ],
   "source": [
    "\n",
    "import os\n",
    "import pickle\n",
    "import base64\n",
    "import openai\n",
    "from email.mime.text import MIMEText\n",
    "from dotenv import load_dotenv\n",
    "from openai import OpenAI\n",
    "from google_auth_oauthlib.flow import InstalledAppFlow\n",
    "from googleapiclient.discovery import build\n",
    "if os.path.exists(\"token.pkl\"):\n",
    "    os.remove(\"token.pkl\")\n",
    "\n",
    "load_dotenv()\n",
    "client = OpenAI(api_key=os.getenv(\"OPENAI_API_KEY\"))\n",
    "\n",
    "\n",
    "SCOPES = ['https://www.googleapis.com/auth/gmail.modify']\n",
    "service = authenticate_gmail()\n",
    "\n"
   ]
  },
  {
   "cell_type": "code",
   "execution_count": 13,
   "id": "253538b9",
   "metadata": {},
   "outputs": [],
   "source": [
    "client = OpenAI(api_key=os.getenv(\"OPENAI_API_KEY\"))\n"
   ]
  },
  {
   "cell_type": "code",
   "execution_count": 14,
   "id": "23cf9700",
   "metadata": {},
   "outputs": [],
   "source": [
    "from google_auth_oauthlib.flow import InstalledAppFlow\n",
    "from googleapiclient.discovery import build\n",
    "import os, pickle\n",
    "\n",
    "SCOPES = ['https://www.googleapis.com/auth/gmail.modify']\n",
    "\n",
    "def authenticate_gmail():\n",
    "    creds = None\n",
    "    if os.path.exists('token.pkl'):\n",
    "        with open('token.pkl', 'rb') as token:\n",
    "            creds = pickle.load(token)\n",
    "    else:\n",
    "        flow = InstalledAppFlow.from_client_secrets_file('credentials.json', SCOPES)\n",
    "        creds = flow.run_local_server(port=0)\n",
    "        with open('token.pkl', 'wb') as token:\n",
    "            pickle.dump(creds, token)\n",
    "\n",
    "    return build('gmail', 'v1', credentials=creds)"
   ]
  },
  {
   "cell_type": "code",
   "execution_count": 15,
   "id": "545eaba5",
   "metadata": {},
   "outputs": [],
   "source": [
    "def get_emails(service, max_results=5):\n",
    "    results = service.users().messages().list(userId='me', labelIds=['INBOX'], maxResults=max_results).execute()\n",
    "    messages = results.get('messages', [])\n",
    "    \n",
    "    email_data = []\n",
    "    for msg in messages:\n",
    "        msg_detail = service.users().messages().get(userId='me', id=msg['id'], format='full').execute()\n",
    "        headers = msg_detail['payload']['headers']\n",
    "        \n",
    "        email_info = {\n",
    "            'snippet': msg_detail.get('snippet', ''),\n",
    "            'to': next((h['value'] for h in headers if h['name'] == 'From'), None),\n",
    "            'subject': next((h['value'] for h in headers if h['name'] == 'Subject'), ''),\n",
    "            'msg_id': next((h['value'] for h in headers if h['name'] == 'Message-ID'), None),\n",
    "        }\n",
    "        email_data.append(email_info)\n",
    "    \n",
    "    return email_data"
   ]
  },
  {
   "cell_type": "code",
   "execution_count": 16,
   "id": "ef112449",
   "metadata": {},
   "outputs": [],
   "source": [
    "\n",
    "def classify_and_respond(email_text):\n",
    "    prompt = f\"\"\"You are an intelligent email assistant. \n",
    "Classify the following email as one of: urgent, spam, or follow-up.\n",
    "Then generate a short, polite response.\n",
    "\n",
    "Email: {email_text}\n",
    "\n",
    "Respond in this format:\n",
    "Classification: <category>\n",
    "Reply: <your reply>\n",
    "\"\"\"\n",
    "\n",
    "    response = client.chat.completions.create(\n",
    "        model=\"gpt-4o\",\n",
    "        messages=[{\"role\": \"user\", \"content\": prompt}],\n",
    "        temperature=0.5\n",
    "    )\n",
    "\n",
    "    result = response.choices[0].message.content\n",
    "    classification = None\n",
    "    reply = None\n",
    "\n",
    "    for line in result.splitlines():\n",
    "        if line.lower().startswith(\"classification:\"):\n",
    "            classification = line.split(\":\", 1)[1].strip().lower()\n",
    "        elif line.lower().startswith(\"reply:\"):\n",
    "            reply = line.split(\":\", 1)[1].strip()\n",
    "\n",
    "    return classification, reply\n"
   ]
  },
  {
   "cell_type": "code",
   "execution_count": 17,
   "id": "56ee0eb2",
   "metadata": {},
   "outputs": [],
   "source": [
    "\n",
    "\n",
    "from email.mime.text import MIMEText\n",
    "import base64\n",
    "\n",
    "def create_draft(service, to, subject, reply_text, in_reply_to=None):\n",
    "    message = MIMEText(reply_text)\n",
    "    message['to'] = to\n",
    "    message['subject'] = \"Re: \" + subject\n",
    "    if in_reply_to:\n",
    "        message['In-Reply-To'] = in_reply_to\n",
    "\n",
    "    raw = base64.urlsafe_b64encode(message.as_bytes()).decode()\n",
    "    draft_body = {'message': {'raw': raw}}\n",
    "    \n",
    "    draft = service.users().drafts().create(userId='me', body=draft_body).execute()\n",
    "    print(f\" Draft created for: {to}\")\n",
    "\n"
   ]
  },
  {
   "cell_type": "code",
   "execution_count": 18,
   "id": "b65c5f18",
   "metadata": {},
   "outputs": [
    {
     "name": "stdout",
     "output_type": "stream",
     "text": [
      "---------\n",
      "Original: Hii, How are you doing ?\n",
      "Classification: follow-up\n",
      "Reply: Hello! I'm doing well, thank you for asking. How can I assist you today?\n",
      " Draft created for: Alex <temporaryuse1871@gmail.com>\n",
      "---------\n",
      "Original: You allowed Credentials access to some of your Google Account data amarnathreddy1871@gmail.com If you didn&#39;t allow Credentials access to some of your Google Account data, someone else may be trying\n",
      "Classification: urgent\n",
      "Reply: Thank you for bringing this to my attention. I did not authorize this access. Please guide me on how to secure my account and prevent any unauthorized access.\n",
      " Draft created for: Google <no-reply@accounts.google.com>\n",
      "---------\n",
      "Original: A new sign-in on Windows amarnathreddy1871@gmail.com We noticed a new sign-in to your Google Account on a Windows device. If this was you, you don&#39;t need to do anything. If not, we&#39;ll help you\n",
      "Classification: follow-up\n",
      "Reply: Thank you for the notification. I will review the sign-in activity to ensure my account security.\n",
      " Draft created for: Google <no-reply@accounts.google.com>\n",
      "---------\n",
      "Original: Unlock exclusive discounts on experiences in Dubai, Singapore, Thailand, Malaysia &amp; the UK. Plan your next international getaway with Niyo! Discover top travel deals to Dubai, Malaysia, Singapore,\n",
      "Classification: spam\n",
      "Reply: Thank you for reaching out with your travel deals. If I am interested in planning a trip, I will be sure to explore the options available.\n",
      " Skipped (spam or no reply)\n",
      "---------\n",
      "Original: Featured courses View in web browser Share on social Share on Facebook Share on Twitter Share on Linkedin Alison Explore Course Categories Login to My Courses Learn from the experts. Hi Chilakala,\n",
      "Classification: spam\n",
      "Reply: Thank you for reaching out. If you have any specific inquiries or need assistance, please let me know.\n",
      " Skipped (spam or no reply)\n"
     ]
    }
   ],
   "source": [
    "service = authenticate_gmail()\n",
    "emails = get_emails(service)\n",
    "\n",
    "for email in emails:\n",
    "    classification, reply = classify_and_respond(email.get(\"snippet\", \"\"))\n",
    "\n",
    "    print(\"---------\")\n",
    "    print(\"Original:\", email.get(\"snippet\", \"\"))\n",
    "    print(\"Classification:\", classification)\n",
    "    print(\"Reply:\", reply)\n",
    "\n",
    "    if classification != \"spam\" and reply:\n",
    "        create_draft(\n",
    "            service,\n",
    "            to=email.get(\"to\"),\n",
    "            subject=email.get(\"subject\"),\n",
    "            reply_text=reply,\n",
    "            in_reply_to=email.get(\"msg_id\")\n",
    "        )\n",
    "    else:\n",
    "        print(\" Skipped (spam or no reply)\")"
   ]
  },
  {
   "cell_type": "code",
   "execution_count": null,
   "id": "a8213d43",
   "metadata": {},
   "outputs": [],
   "source": []
  }
 ],
 "metadata": {
  "kernelspec": {
   "display_name": "base",
   "language": "python",
   "name": "python3"
  },
  "language_info": {
   "codemirror_mode": {
    "name": "ipython",
    "version": 3
   },
   "file_extension": ".py",
   "mimetype": "text/x-python",
   "name": "python",
   "nbconvert_exporter": "python",
   "pygments_lexer": "ipython3",
   "version": "3.13.5"
  }
 },
 "nbformat": 4,
 "nbformat_minor": 5
}
